{
 "cells": [
  {
   "cell_type": "code",
   "execution_count": 1,
   "id": "1c3eb451",
   "metadata": {},
   "outputs": [],
   "source": [
    "import os\n",
    "import skimage\n",
    "import numpy as np \n",
    "import matplotlib.pyplot as plt\n",
    "import pandas as pd \n",
    "import glob\n",
    "from skimage import io\n",
    "import seaborn as sns \n",
    "from skimage import color\n",
    "\n",
    "\n",
    "from skimage import data, color\n",
    "from skimage.transform import rescale, resize, downscale_local_mean \n",
    "\n",
    "from sklearn.model_selection import train_test_split\n",
    "from sklearn.linear_model import LogisticRegression\n",
    "from sklearn.metrics import accuracy_score\n",
    "from sklearn.metrics import classification_report\n",
    "\n",
    "from sklearn.metrics import confusion_matrix\n",
    "\n",
    "from sklearn.metrics import roc_curve  \n",
    "from sklearn import metrics\n",
    "from sklearn.metrics import plot_confusion_matrix\n",
    "from itertools import combinations\n",
    "import time"
   ]
  },
  {
   "cell_type": "markdown",
   "id": "6c6a5410",
   "metadata": {},
   "source": [
    "# IMAGE MATCHING FUNCTION"
   ]
  },
  {
   "cell_type": "code",
   "execution_count": 2,
   "id": "144675de",
   "metadata": {},
   "outputs": [],
   "source": [
    "from sklearn.preprocessing import MinMaxScaler\n",
    "PRED_SCORES=[]\n",
    "TH=253\n",
    "def ImageMatch(imgA , imgB , method='cc' , normalize='no'):\n",
    "    \n",
    "        if normalize=='yes':\n",
    "            normA = MinMaxScaler()\n",
    "            normB = MinMaxScaler()\n",
    "            img_A = normA.fit_transform(imgA)\n",
    "            img_B = normA.fit_transform(imgB)\n",
    "\n",
    "# --------------------------------cc-----------------------------------#  \n",
    "        if method == 'cc':\n",
    "            cross_corr=0        \n",
    "            for x in range(len(imgA)):    # x-> row of pixels of images\n",
    "                for y in range(len(imgB[x])):   # y-> col of pixels of images\n",
    "                    cross_corr += (imgA[x][y]*imgB[x][y])  # cross_Cor is the values of scores\n",
    "            if cross_corr >= TH :  # similar\n",
    "                PRED_SCORES.append(1)\n",
    "            else:                  # not similar\n",
    "                PRED_SCORES.append(0) \n",
    "            return cross_corr    \n",
    "# --------------------------------conv-----------------------------------#                  \n",
    "        elif method=='conv':\n",
    "            conv=0\n",
    "            fliped_imgA = np.flip(imgA, axis=0)  # flip the rows\n",
    "            fliped_imgA_final = np.flip(fliped_imgA, axis=1) # flip the col\n",
    "            for x in range(len(fliped_imgA_final)):    # x-> row of pixels of images\n",
    "                for y in range(len(fliped_imgA_final[x])):   # y-> col of pixels of images\n",
    "                    conv += (fliped_imgA_final[x][y]*imgB[x][y])  # cross_Cor is the values of scores\n",
    "            \n",
    "            if conv >= TH :  # similar\n",
    "                PRED_SCORES.append(1)\n",
    "            else:            # not similar\n",
    "                PRED_SCORES.append(0) \n",
    "            return conv    \n",
    "# --------------------------------ssd-----------------------------------#                \n",
    "        elif method == 'ssd':\n",
    "            ssd=0\n",
    "            for x in range(len(imgA)):\n",
    "                for y in range(len(imgB[x])):\n",
    "                    ssd += np.square(imgA[x][y] - imgB[x][y])\n",
    "            if ssd >= TH :  # not similar\n",
    "                PRED_SCORES.append(0)\n",
    "            else:            # similar\n",
    "                PRED_SCORES.append(1) \n",
    "            return ssd    \n"
   ]
  },
  {
   "cell_type": "markdown",
   "id": "38c0f1b5",
   "metadata": {},
   "source": [
    "# PREPROCESSING IMAGES , COMBINATION & LABELS OF TRAINING IMAGES"
   ]
  },
  {
   "cell_type": "code",
   "execution_count": 3,
   "id": "25f3ffec",
   "metadata": {},
   "outputs": [],
   "source": [
    "training_paths=[]   # paths of the training images \n",
    "\n",
    "training_pairs=[]   # similarity and nonsimilarity pairs of images \n",
    "\n",
    "training_labels=[]  # labels of similarity and nonsimilarity pairs of images\n",
    "\n",
    "\n",
    "for (root,dirs,files) in os.walk('C:\\\\Users\\\\SOFT\\\\Desktop\\\\Deep learning section\\\\training2' ,topdown=True):\n",
    "    for i in files :\n",
    "        path=os.path.join(root,i)\n",
    "        training_paths.append(path)\n",
    "        \n",
    "training_pairs = list(combinations(training_paths, 2))  \n",
    "\n",
    "for i in training_pairs:\n",
    "    img1 =os.path.dirname(i[0])\n",
    "    img2=os.path.dirname(i[1])\n",
    "    if(img1==img2):\n",
    "        training_labels.append(1)\n",
    "    else :\n",
    "        training_labels.append(0)\n",
    "# print(Training_Labels)        \n",
    "# print(len(training_labels))\n",
    "\n",
    "\n",
    "#-------------------------------------------------------------------------#\n",
    "\n",
    "Training_Images_path=[]\n",
    "training_pairs.clear()\n",
    "for i in training_paths:\n",
    "    img = io.imread( i )\n",
    "    img_resized = resize( img , (32 , 32 , 3 ) )  # 32*32*3\n",
    "    img_gray = color.rgb2gray( img_resized  )     # 32*32\n",
    "    Training_Images_path.append(img_gray)\n",
    "training_pairs = list(combinations(Training_Images_path, 2)) \n",
    " \n",
    "\n",
    "\n",
    "    "
   ]
  },
  {
   "cell_type": "markdown",
   "id": "ea18c993",
   "metadata": {},
   "source": [
    "# SCORES OF TRAINING IMAGES"
   ]
  },
  {
   "cell_type": "code",
   "execution_count": 4,
   "id": "5d08fb4e",
   "metadata": {},
   "outputs": [],
   "source": [
    "training_scores=[]  # scores of the training images \n",
    "for i in training_pairs:\n",
    "    img1=i[0]\n",
    "    img2=i[1]\n",
    "    result_train_score=ImageMatch(img1 , img2 ,'cc','no')\n",
    "    #print(result_train_score)\n",
    "    training_scores.append(result_train_score)\n",
    "    "
   ]
  },
  {
   "cell_type": "code",
   "execution_count": 5,
   "id": "ebc2dc46",
   "metadata": {},
   "outputs": [],
   "source": [
    "predict_train_label=[]\n",
    "for j in training_scores:\n",
    "    if j<=TH:\n",
    "        predict_train_label.append(1)\n",
    "    else:\n",
    "        predict_train_label.append(0)\n",
    "        "
   ]
  },
  {
   "cell_type": "markdown",
   "id": "556179bd",
   "metadata": {},
   "source": [
    "# ACCURACY  , PRECISION , RECAAL , F1 SCORE OF TRAINING"
   ]
  },
  {
   "cell_type": "code",
   "execution_count": 6,
   "id": "cfc545e8",
   "metadata": {},
   "outputs": [
    {
     "name": "stdout",
     "output_type": "stream",
     "text": [
      "confusion matrix \n",
      " [[13493     7]\n",
      " [ 2606     4]]\n",
      "Accuracy: 0.8378026070763501\n",
      "precition: 0.36363636363636365\n",
      "f1 score: 0.003052270125906143\n",
      "recall: 0.0015325670498084292\n"
     ]
    }
   ],
   "source": [
    "from sklearn.metrics import confusion_matrix\n",
    "from sklearn import metrics\n",
    "\n",
    "\n",
    "conf = confusion_matrix(training_labels , predict_train_label)\n",
    "print('confusion matrix',\"\\n\",conf)\n",
    "\n",
    "# Model Accuracy: how often is the classifier correct?\n",
    "\n",
    "print(\"Accuracy:\",metrics.accuracy_score(training_labels , predict_train_label))\n",
    "\n",
    "print(\"precition:\",metrics.precision_score(training_labels , predict_train_label))\n",
    "\n",
    "print(\"f1 score:\",metrics.f1_score(training_labels , predict_train_label))\n",
    "\n",
    "print(\"recall:\",metrics.recall_score(training_labels , predict_train_label))\n"
   ]
  },
  {
   "cell_type": "markdown",
   "id": "029689b1",
   "metadata": {},
   "source": [
    "# PREPROCESSING IMAGES , COMBINATION & LABELS OF TESTING IMAGES"
   ]
  },
  {
   "cell_type": "code",
   "execution_count": 7,
   "id": "4f0ebbfe",
   "metadata": {},
   "outputs": [],
   "source": [
    "testing_paths=[]   # paths of the training images \n",
    "\n",
    "testing_pairs=[]   # similarity and nonsimilarity pairs of images \n",
    "\n",
    "testing_labels=[]  # labels of similarity and nonsimilarity pairs of images\n",
    "\n",
    "\n",
    "for (root,dirs,files) in os.walk('C:\\\\Users\\\\SOFT\\\\Desktop\\\\Deep learning section\\\\testing2' ,topdown=True):\n",
    "    for i in files :\n",
    "        path=os.path.join(root,i)\n",
    "        testing_paths.append(path)\n",
    "        \n",
    "testing_pairs = list(combinations(testing_paths, 2))  \n",
    "\n",
    "for i in testing_pairs:\n",
    "    img1 =os.path.dirname(i[0])\n",
    "    img2=os.path.dirname(i[1])\n",
    "    if(img1==img2):\n",
    "        testing_labels.append(1)\n",
    "    else :\n",
    "        testing_labels.append(0)\n",
    "# print(testing_Labels)        \n",
    "#print(len(testing_labels))\n",
    "\n",
    "\n",
    "#-------------------------------------------------------------------------#\n",
    "\n",
    "Testing_Images_path=[]\n",
    "testing_pairs.clear()\n",
    "for i in testing_paths:\n",
    "    img = io.imread( i )\n",
    "    img_resized = resize( img , (32 , 32 , 3 ) )  # 32*32*3\n",
    "    img_gray = color.rgb2gray( img_resized  )     # 32*32\n",
    "    Testing_Images_path.append(img_gray)\n",
    "testing_pairs = list(combinations(Testing_Images_path, 2)) \n",
    " "
   ]
  },
  {
   "cell_type": "markdown",
   "id": "03c5e00e",
   "metadata": {},
   "source": [
    "# SCORES OF TESTING IMAGES"
   ]
  },
  {
   "cell_type": "code",
   "execution_count": 8,
   "id": "905ab262",
   "metadata": {},
   "outputs": [],
   "source": [
    "testing_scores=[]  # scores of the training images \n",
    "starttime = time.time()\n",
    "for i in testing_pairs:\n",
    "    img1=i[0]\n",
    "    img2=i[1]\n",
    "    result_test_score=ImageMatch(img1 , img2 ,'cc','no')\n",
    "    #print(result_test_score)\n",
    "    testing_scores.append(result_test_score)\n",
    "endtime = time.time()\n",
    "    "
   ]
  },
  {
   "cell_type": "code",
   "execution_count": 9,
   "id": "de443b1b",
   "metadata": {},
   "outputs": [],
   "source": [
    "predict_test_label=[]\n",
    "for j in testing_scores:\n",
    "    if j<=TH:\n",
    "        predict_test_label.append(1)\n",
    "    else:\n",
    "        predict_test_label.append(0)"
   ]
  },
  {
   "cell_type": "code",
   "execution_count": 10,
   "id": "3d468d11",
   "metadata": {},
   "outputs": [
    {
     "name": "stdout",
     "output_type": "stream",
     "text": [
      "EX_time of ImageMatching =  1.2147493362426758\n"
     ]
    }
   ],
   "source": [
    "EX_time = endtime - starttime \n",
    "print(\"EX_time of ImageMatching = \",EX_time)"
   ]
  },
  {
   "cell_type": "code",
   "execution_count": 11,
   "id": "b0eab8d1",
   "metadata": {},
   "outputs": [],
   "source": [
    "# cc \"image matching function \" takes long time than MLP"
   ]
  },
  {
   "cell_type": "markdown",
   "id": "a5247acc",
   "metadata": {},
   "source": [
    "\n",
    "# ACCURACY  , PRECISION , RECAAL , F1 SCORE OF TESTING"
   ]
  },
  {
   "cell_type": "code",
   "execution_count": 12,
   "id": "f6b667fe",
   "metadata": {},
   "outputs": [
    {
     "name": "stdout",
     "output_type": "stream",
     "text": [
      "confusion matrix \n",
      " [[1500    0]\n",
      " [ 269    1]]\n",
      "Accuracy: 0.8480225988700565\n",
      "precition: 1.0\n",
      "f1 score: 0.007380073800738007\n",
      "recall: 0.003703703703703704\n"
     ]
    }
   ],
   "source": [
    "from sklearn.metrics import confusion_matrix\n",
    "from sklearn import metrics\n",
    "\n",
    "\n",
    "conf = confusion_matrix(testing_labels , predict_test_label)\n",
    "print('confusion matrix',\"\\n\",conf)\n",
    "\n",
    "# Model Accuracy: how often is the classifier correct?\n",
    "\n",
    "print(\"Accuracy:\",metrics.accuracy_score(testing_labels , predict_test_label))\n",
    "\n",
    "print(\"precition:\",metrics.precision_score(testing_labels , predict_test_label))\n",
    "\n",
    "print(\"f1 score:\",metrics.f1_score(testing_labels , predict_test_label))\n",
    "\n",
    "print(\"recall:\",metrics.recall_score(testing_labels , predict_test_label))\n"
   ]
  },
  {
   "cell_type": "code",
   "execution_count": 13,
   "id": "9175d62e",
   "metadata": {},
   "outputs": [],
   "source": [
    "# cc \"image matching function \" better accuracy than MLP"
   ]
  },
  {
   "cell_type": "markdown",
   "id": "6519c440",
   "metadata": {},
   "source": [
    "# PREPROCESSING FOR MLP"
   ]
  },
  {
   "cell_type": "code",
   "execution_count": 14,
   "id": "59098e8d",
   "metadata": {},
   "outputs": [],
   "source": [
    "# flatten of train\n",
    "x_train=[]\n",
    "for x in training_pairs:\n",
    "    arr_x=np.array(x)      # i should convert it to array cause tuple don't have function (reshape)\n",
    "    Tra_Resh_x=arr_x.reshape(2048)\n",
    "    x_train.append(Tra_Resh_x)"
   ]
  },
  {
   "cell_type": "code",
   "execution_count": 15,
   "id": "3cd83886",
   "metadata": {},
   "outputs": [],
   "source": [
    "#flatten of test\n",
    "x_test=[]\n",
    "for x in testing_pairs:\n",
    "    arr_x=np.array(x)      # i should convert it to array cause tuple don't have function (reshape)\n",
    "    Tes_Resh_x=arr_x.reshape(2048)\n",
    "    x_test.append(Tes_Resh_x)"
   ]
  },
  {
   "cell_type": "code",
   "execution_count": 16,
   "id": "ece5cd51",
   "metadata": {},
   "outputs": [],
   "source": [
    "# label of train \n",
    "y_train=[]\n",
    "for y in training_labels:\n",
    "    y_train.append(y)"
   ]
  },
  {
   "cell_type": "code",
   "execution_count": 17,
   "id": "61c2cb1e",
   "metadata": {},
   "outputs": [],
   "source": [
    "# label of test \n",
    "y_test=[]\n",
    "for y in testing_labels:\n",
    "    y_test.append(y)"
   ]
  },
  {
   "cell_type": "markdown",
   "id": "2a2feb05",
   "metadata": {},
   "source": [
    "# MLP "
   ]
  },
  {
   "cell_type": "code",
   "execution_count": 18,
   "id": "b10e3096",
   "metadata": {},
   "outputs": [],
   "source": [
    "from sklearn.neural_network import MLPClassifier\n",
    "MLPcls = MLPClassifier()\n",
    "MLP = MLPcls.fit(x_train, y_train)"
   ]
  },
  {
   "cell_type": "code",
   "execution_count": 19,
   "id": "f59b6e6e",
   "metadata": {},
   "outputs": [],
   "source": [
    "predict_y_train =  MLP.predict( x_train )\n",
    "start_time = time.time()\n",
    "predict_y_test =  MLP.predict( x_test  )\n",
    "end_time = time.time()"
   ]
  },
  {
   "cell_type": "code",
   "execution_count": 20,
   "id": "383d6019",
   "metadata": {},
   "outputs": [
    {
     "name": "stdout",
     "output_type": "stream",
     "text": [
      "Accuracy of training =  0.9835505896958411\n",
      "Accuracy of testing =  0.5203389830508475\n"
     ]
    }
   ],
   "source": [
    "print(\"Accuracy of training = \" ,accuracy_score( y_train ,  predict_y_train ))\n",
    "print(\"Accuracy of testing = \", accuracy_score( y_test ,  predict_y_test  ))"
   ]
  },
  {
   "cell_type": "code",
   "execution_count": 21,
   "id": "00b9e65d",
   "metadata": {},
   "outputs": [
    {
     "name": "stdout",
     "output_type": "stream",
     "text": [
      "EX_time of MLP =  1.008303165435791\n"
     ]
    }
   ],
   "source": [
    "EX_time = end_time - start_time \n",
    "print(\"EX_time of MLP = \",EX_time)"
   ]
  },
  {
   "cell_type": "code",
   "execution_count": 22,
   "id": "9a42dc62",
   "metadata": {},
   "outputs": [],
   "source": [
    "# MLP time is better than ImageMatch function "
   ]
  },
  {
   "cell_type": "code",
   "execution_count": 23,
   "id": "e2984386",
   "metadata": {},
   "outputs": [
    {
     "name": "stdout",
     "output_type": "stream",
     "text": [
      "confusion matrix of testing  \n",
      " [[780 720]\n",
      " [129 141]]\n",
      "Accuracy of testing: 0.5203389830508475\n",
      "precition of testing: 0.16376306620209058\n",
      "f1 score of testing: 0.2493368700265252\n",
      "recall of testing: 0.5222222222222223\n"
     ]
    }
   ],
   "source": [
    "conf = confusion_matrix(y_test , predict_y_test)\n",
    "print('confusion matrix of testing ',\"\\n\",conf)\n",
    "\n",
    "# Model Accuracy: how often is the classifier correct?\n",
    "\n",
    "print(\"Accuracy of testing:\",metrics.accuracy_score(y_test , predict_y_test))\n",
    "\n",
    "print(\"precition of testing:\",metrics.precision_score(y_test , predict_y_test))\n",
    "\n",
    "print(\"f1 score of testing:\",metrics.f1_score(y_test , predict_y_test))\n",
    "\n",
    "print(\"recall of testing:\",metrics.recall_score(y_test , predict_y_test))"
   ]
  },
  {
   "cell_type": "code",
   "execution_count": 24,
   "id": "e45b80f2",
   "metadata": {},
   "outputs": [],
   "source": [
    " # MLP low accuracy than ImageMatch "
   ]
  }
 ],
 "metadata": {
  "kernelspec": {
   "display_name": "Python 3 (ipykernel)",
   "language": "python",
   "name": "python3"
  },
  "language_info": {
   "codemirror_mode": {
    "name": "ipython",
    "version": 3
   },
   "file_extension": ".py",
   "mimetype": "text/x-python",
   "name": "python",
   "nbconvert_exporter": "python",
   "pygments_lexer": "ipython3",
   "version": "3.9.12"
  }
 },
 "nbformat": 4,
 "nbformat_minor": 5
}
